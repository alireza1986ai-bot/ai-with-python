{
 "cells": [
  {
   "cell_type": "markdown",
   "id": "c535a253-962c-43b6-bd0d-c1f045d1b980",
   "metadata": {},
   "source": [
    "<div dir=\"rtl\">\n",
    "\n",
    "#   پروژه 2\n",
    "\n",
    "</div>"
   ]
  },
  {
   "cell_type": "code",
   "execution_count": 1,
   "id": "6e5c5f26-6c3c-4917-890c-63f57b2e06fa",
   "metadata": {},
   "outputs": [],
   "source": [
    "\n",
    "import pandas as pd"
   ]
  },
  {
   "cell_type": "code",
   "execution_count": 2,
   "id": "efb06082-dfea-4ff6-abe4-dbdf884b8965",
   "metadata": {},
   "outputs": [],
   "source": [
    "\n",
    "social_network_data = pd.read_csv('social_network_data.csv')\n"
   ]
  },
  {
   "cell_type": "code",
   "execution_count": 6,
   "id": "72091080-8ba3-464f-8534-ef04d036062d",
   "metadata": {},
   "outputs": [
    {
     "data": {
      "text/html": [
       "<div>\n",
       "<style scoped>\n",
       "    .dataframe tbody tr th:only-of-type {\n",
       "        vertical-align: middle;\n",
       "    }\n",
       "\n",
       "    .dataframe tbody tr th {\n",
       "        vertical-align: top;\n",
       "    }\n",
       "\n",
       "    .dataframe thead th {\n",
       "        text-align: right;\n",
       "    }\n",
       "</style>\n",
       "<table border=\"1\" class=\"dataframe\">\n",
       "  <thead>\n",
       "    <tr style=\"text-align: right;\">\n",
       "      <th></th>\n",
       "      <th>StudentID</th>\n",
       "      <th>Name</th>\n",
       "      <th>Department</th>\n",
       "    </tr>\n",
       "  </thead>\n",
       "  <tbody>\n",
       "    <tr>\n",
       "      <th>0</th>\n",
       "      <td>1211</td>\n",
       "      <td>John</td>\n",
       "      <td>Computer Science</td>\n",
       "    </tr>\n",
       "    <tr>\n",
       "      <th>1</th>\n",
       "      <td>2455</td>\n",
       "      <td>Emily</td>\n",
       "      <td>Biology</td>\n",
       "    </tr>\n",
       "    <tr>\n",
       "      <th>2</th>\n",
       "      <td>3450</td>\n",
       "      <td>David</td>\n",
       "      <td>Physics</td>\n",
       "    </tr>\n",
       "    <tr>\n",
       "      <th>3</th>\n",
       "      <td>4453</td>\n",
       "      <td>Sarah</td>\n",
       "      <td>Computer Science</td>\n",
       "    </tr>\n",
       "    <tr>\n",
       "      <th>4</th>\n",
       "      <td>5451</td>\n",
       "      <td>Michael</td>\n",
       "      <td>Mathematics</td>\n",
       "    </tr>\n",
       "  </tbody>\n",
       "</table>\n",
       "</div>"
      ],
      "text/plain": [
       "   StudentID     Name        Department\n",
       "0       1211     John  Computer Science\n",
       "1       2455    Emily           Biology\n",
       "2       3450    David           Physics\n",
       "3       4453    Sarah  Computer Science\n",
       "4       5451  Michael       Mathematics"
      ]
     },
     "execution_count": 6,
     "metadata": {},
     "output_type": "execute_result"
    }
   ],
   "source": [
    "# Display initial information about the data\n",
    "social_network_data.head()\n"
   ]
  },
  {
   "cell_type": "code",
   "execution_count": 7,
   "id": "9df5175b-0d90-45c7-8eba-1802b4ae55cf",
   "metadata": {},
   "outputs": [
    {
     "name": "stdout",
     "output_type": "stream",
     "text": [
      "Total number of students: 5\n"
     ]
    }
   ],
   "source": [
    "\n",
    "total_students = social_network_data['StudentID'].nunique()\n",
    "print('Total number of students:', total_students)\n"
   ]
  },
  {
   "cell_type": "code",
   "execution_count": 8,
   "id": "0a3349ec-d314-4378-b829-679045dcc3c5",
   "metadata": {},
   "outputs": [
    {
     "name": "stdout",
     "output_type": "stream",
     "text": [
      "Number of students in each department:\n",
      "Department\n",
      "Biology             1\n",
      "Computer Science    2\n",
      "Mathematics         1\n",
      "Physics             1\n",
      "Name: StudentID, dtype: int64\n"
     ]
    }
   ],
   "source": [
    "\n",
    "students_per_department = social_network_data.groupby('Department')['StudentID'].nunique()\n",
    "print('Number of students in each department:')\n",
    "print(students_per_department)"
   ]
  },
  {
   "cell_type": "code",
   "execution_count": null,
   "id": "4e2f6441-a3f4-4439-a059-59ff355678b7",
   "metadata": {},
   "outputs": [],
   "source": []
  }
 ],
 "metadata": {
  "kernelspec": {
   "display_name": "Python 3 (ipykernel)",
   "language": "python",
   "name": "python3"
  },
  "language_info": {
   "codemirror_mode": {
    "name": "ipython",
    "version": 3
   },
   "file_extension": ".py",
   "mimetype": "text/x-python",
   "name": "python",
   "nbconvert_exporter": "python",
   "pygments_lexer": "ipython3",
   "version": "3.13.5"
  },
  "widgets": {
   "application/vnd.jupyter.widget-state+json": {
    "state": {},
    "version_major": 2,
    "version_minor": 0
   }
  }
 },
 "nbformat": 4,
 "nbformat_minor": 5
}
