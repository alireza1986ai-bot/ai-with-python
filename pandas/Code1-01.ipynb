{
 "cells": [
  {
   "attachments": {},
   "cell_type": "markdown",
   "id": "b0b4128d-b37c-4fdf-a361-6386527f8a14",
   "metadata": {},
   "source": [
    "<div dir=\"rtl\">\n",
    "\n",
    "#   سری‌ها در  Pandas\n",
    "\n",
    "</div>"
   ]
  },
  {
   "cell_type": "code",
   "execution_count": null,
   "id": "d71a948d-75f5-452a-97fe-c8a1b41c4b27",
   "metadata": {},
   "outputs": [],
   "source": [
    "#pip install pandas\n",
    "# conda install pandas"
   ]
  },
  {
   "cell_type": "code",
   "execution_count": 1,
   "id": "bd42a51a-2792-45eb-b78f-550c54743cee",
   "metadata": {},
   "outputs": [],
   "source": [
    "import pandas as pd"
   ]
  },
  {
   "cell_type": "code",
   "execution_count": 2,
   "id": "181e0dd0-e9e0-42bf-8d23-a2ee78db72bf",
   "metadata": {},
   "outputs": [
    {
     "name": "stdout",
     "output_type": "stream",
     "text": [
      "0    10\n",
      "1    20\n",
      "2    30\n",
      "3    40\n",
      "dtype: int64\n"
     ]
    }
   ],
   "source": [
    "# ایجاد یک سری از یک لیست\n",
    "data = [10, 20, 30, 40]\n",
    "s = pd.Series(data)\n",
    "print(s)\n"
   ]
  },
  {
   "cell_type": "code",
   "execution_count": 3,
   "id": "4af70400-914a-4bff-a2c3-f20fcbadb0b0",
   "metadata": {},
   "outputs": [
    {
     "name": "stdout",
     "output_type": "stream",
     "text": [
      "a    10\n",
      "b    20\n",
      "c    30\n",
      "d    40\n",
      "dtype: int64\n"
     ]
    }
   ],
   "source": [
    "s = pd.Series(data, index=['a', 'b', 'c', 'd'])\n",
    "\n",
    "print(s)\n"
   ]
  },
  {
   "cell_type": "code",
   "execution_count": 4,
   "id": "c2b24f2a-d4ae-4dea-bb27-75a3ee12cfe2",
   "metadata": {},
   "outputs": [
    {
     "name": "stdout",
     "output_type": "stream",
     "text": [
      "a    10\n",
      "b    20\n",
      "c    30\n",
      "d    40\n",
      "dtype: int64\n"
     ]
    }
   ],
   "source": [
    "data = {'a': 10, 'b': 20, 'c': 30, 'd': 40}\n",
    "s = pd.Series(data)\n",
    "\n",
    "print(s)\n"
   ]
  },
  {
   "cell_type": "code",
   "execution_count": 5,
   "id": "88f16de5-d67e-4adf-85ce-5070c77f338b",
   "metadata": {},
   "outputs": [
    {
     "name": "stdout",
     "output_type": "stream",
     "text": [
      "0    10\n",
      "1    20\n",
      "2    30\n",
      "3    40\n",
      "dtype: int64\n"
     ]
    }
   ],
   "source": [
    "data = [10, 20, 30, 40]\n",
    "s = pd.Series(data)\n",
    "print(s)"
   ]
  },
  {
   "cell_type": "code",
   "execution_count": 6,
   "id": "125e4de9-5466-4844-b1eb-4fddc39b7c3a",
   "metadata": {},
   "outputs": [
    {
     "name": "stdout",
     "output_type": "stream",
     "text": [
      "10\n",
      "10\n"
     ]
    }
   ],
   "source": [
    "print(s[0])  \n",
    "print(s.iloc[0])"
   ]
  },
  {
   "cell_type": "code",
   "execution_count": 7,
   "id": "8ad1d494-20ea-4b2c-b80a-4e4b7740fcc7",
   "metadata": {},
   "outputs": [
    {
     "name": "stdout",
     "output_type": "stream",
     "text": [
      "a    10\n",
      "b    20\n",
      "c    30\n",
      "d    40\n",
      "dtype: int64\n",
      "-------------------\n",
      "30\n",
      "30\n"
     ]
    }
   ],
   "source": [
    "s = pd.Series(data, index=['a', 'b', 'c', 'd'])\n",
    "print(s)\n",
    "print('-------------------')\n",
    "print(s['c'])\n",
    "print(s.loc['c'])"
   ]
  },
  {
   "cell_type": "code",
   "execution_count": 23,
   "id": "1e96df58-c466-47cb-9fb4-643491fff3a7",
   "metadata": {},
   "outputs": [
    {
     "name": "stdout",
     "output_type": "stream",
     "text": [
      "DatetimeIndex(['2023-03-01', '2023-03-02', '2023-03-03', '2023-03-04',\n",
      "               '2023-03-05', '2023-03-06', '2023-03-07', '2023-03-08',\n",
      "               '2023-03-09', '2023-03-10',\n",
      "               ...\n",
      "               '2023-08-23', '2023-08-24', '2023-08-25', '2023-08-26',\n",
      "               '2023-08-27', '2023-08-28', '2023-08-29', '2023-08-30',\n",
      "               '2023-08-31', '2023-09-01'],\n",
      "              dtype='datetime64[ns]', length=185, freq='D')\n"
     ]
    }
   ],
   "source": [
    "dr = pd.date_range('2023-03-01', '2023-09-1', freq='D')\n",
    "print(dr)"
   ]
  },
  {
   "cell_type": "code",
   "execution_count": 24,
   "id": "9979f230-d62b-4410-a84a-c3f20804309b",
   "metadata": {},
   "outputs": [
    {
     "name": "stdout",
     "output_type": "stream",
     "text": [
      "DatetimeIndex(['2023-03-01', '2023-03-02', '2023-03-03', '2023-03-04',\n",
      "               '2023-03-05', '2023-03-06', '2023-03-07', '2023-03-08',\n",
      "               '2023-03-09', '2023-03-10', '2023-03-11', '2023-03-12',\n",
      "               '2023-03-13', '2023-03-14', '2023-03-15', '2023-03-16'],\n",
      "              dtype='datetime64[ns]', freq='D')\n"
     ]
    }
   ],
   "source": [
    "dr2 = pd.date_range('2023-03-01', periods=16)\n",
    "print(dr2)"
   ]
  },
  {
   "cell_type": "code",
   "execution_count": 26,
   "id": "cc9aacda-2c7f-4a75-9a29-3b6cb8cf50cd",
   "metadata": {},
   "outputs": [
    {
     "name": "stdout",
     "output_type": "stream",
     "text": [
      "DatetimeIndex(['2023-03-31', '2023-04-30', '2023-05-31', '2023-06-30',\n",
      "               '2023-07-31', '2023-08-31', '2023-09-30', '2023-10-31',\n",
      "               '2023-11-30', '2023-12-31', '2024-01-31', '2024-02-29',\n",
      "               '2024-03-31', '2024-04-30', '2024-05-31', '2024-06-30'],\n",
      "              dtype='datetime64[ns]', freq='ME')\n"
     ]
    }
   ],
   "source": [
    "dr2 = pd.date_range('2023-03-01', periods=16,freq='ME')\n",
    "print(dr2)"
   ]
  },
  {
   "cell_type": "code",
   "execution_count": 27,
   "id": "715a620e-b909-4d8a-aec2-2682825a3db2",
   "metadata": {},
   "outputs": [
    {
     "name": "stdout",
     "output_type": "stream",
     "text": [
      "DatetimeIndex(['2023-03-01', '2023-04-01', '2023-05-01', '2023-06-01',\n",
      "               '2023-07-01', '2023-08-01', '2023-09-01', '2023-10-01',\n",
      "               '2023-11-01', '2023-12-01', '2024-01-01', '2024-02-01',\n",
      "               '2024-03-01', '2024-04-01', '2024-05-01', '2024-06-01'],\n",
      "              dtype='datetime64[ns]', freq='MS')\n"
     ]
    }
   ],
   "source": [
    "dr2 = pd.date_range('2023-03-01', periods=16,freq='MS')\n",
    "print(dr2)"
   ]
  },
  {
   "cell_type": "code",
   "execution_count": 29,
   "id": "fe4b151d-4e92-4c2a-9c8d-3d455218aa02",
   "metadata": {},
   "outputs": [
    {
     "name": "stdout",
     "output_type": "stream",
     "text": [
      "DatetimeIndex(['2023-03-01 09:00:00', '2023-03-01 10:00:00',\n",
      "               '2023-03-01 11:00:00', '2023-03-01 12:00:00',\n",
      "               '2023-03-01 13:00:00', '2023-03-01 14:00:00',\n",
      "               '2023-03-01 15:00:00', '2023-03-01 16:00:00',\n",
      "               '2023-03-01 17:00:00', '2023-03-01 18:00:00',\n",
      "               '2023-03-01 19:00:00', '2023-03-01 20:00:00',\n",
      "               '2023-03-01 21:00:00', '2023-03-01 22:00:00',\n",
      "               '2023-03-01 23:00:00', '2023-03-02 00:00:00',\n",
      "               '2023-03-02 01:00:00', '2023-03-02 02:00:00',\n",
      "               '2023-03-02 03:00:00', '2023-03-02 04:00:00'],\n",
      "              dtype='datetime64[ns]', freq='h')\n"
     ]
    }
   ],
   "source": [
    "dr2 = pd.date_range('2023-03-01 09:00:00', periods=20,freq='h')\n",
    "print(dr2)"
   ]
  },
  {
   "cell_type": "code",
   "execution_count": null,
   "id": "9446d9b2-387d-477c-b6e0-08d13f6460cc",
   "metadata": {},
   "outputs": [],
   "source": []
  }
 ],
 "metadata": {
  "kernelspec": {
   "display_name": "Python 3 (ipykernel)",
   "language": "python",
   "name": "python3"
  },
  "language_info": {
   "codemirror_mode": {
    "name": "ipython",
    "version": 3
   },
   "file_extension": ".py",
   "mimetype": "text/x-python",
   "name": "python",
   "nbconvert_exporter": "python",
   "pygments_lexer": "ipython3",
   "version": "3.13.5"
  },
  "widgets": {
   "application/vnd.jupyter.widget-state+json": {
    "state": {},
    "version_major": 2,
    "version_minor": 0
   }
  }
 },
 "nbformat": 4,
 "nbformat_minor": 5
}
